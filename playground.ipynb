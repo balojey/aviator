{
 "cells": [
  {
   "cell_type": "code",
   "execution_count": 16,
   "metadata": {},
   "outputs": [
    {
     "name": "stdout",
     "output_type": "stream",
     "text": [
      "1.05\n",
      "1.55\n",
      "1.71\n",
      "2.63\n",
      "1.65\n",
      "6.13\n",
      "1.51\n",
      "1.19\n",
      "1.12\n",
      "1.56\n"
     ]
    }
   ],
   "source": [
    "import random\n",
    "\n",
    "def generate_decimal():\n",
    "    \"\"\"\n",
    "    Generates a decimal based on the following probabilities:\n",
    "    1. 60% chance to generate a decimal >= 1.00 and < 2.00\n",
    "    2. 35% chance to generate a decimal >= 2.00 and < 10.00\n",
    "    3. 5% chance to generate a decimal >= 10.00 and <= 20000\n",
    "    \"\"\"\n",
    "    probability = random.random()  # Generate a random number between 0 and 1\n",
    "\n",
    "    if probability < 0.85:  # 60% chance\n",
    "        return round(random.uniform(1.00, 2.00), 2)\n",
    "    elif probability < 0.95:  # 35% chance\n",
    "        return round(random.uniform(2.00, 10.00), 2)\n",
    "    else:  # 5% chance\n",
    "        return round(random.uniform(10.00, 1000.00), 2)\n",
    "\n",
    "# Example usage\n",
    "for _ in range(10):\n",
    "    print(generate_decimal())"
   ]
  },
  {
   "cell_type": "code",
   "execution_count": 17,
   "metadata": {},
   "outputs": [],
   "source": [
    "from datetime import datetime\n",
    "import json\n",
    "from bot.data_source import LiveBetHistory, DecidedMultiplier, RoundResult\n",
    "\n",
    "bet_history: list[LiveBetHistory] = []\n",
    "live_bet_history_storage: str = f'artificial_live_bet_history/live_bet_history.json'\n",
    "\n",
    "for _ in range(3000):\n",
    "    bet_history.append(\n",
    "        LiveBetHistory(\n",
    "            date=datetime.now().strftime('%Y-%m-%d'),\n",
    "            time=datetime.now().strftime('%H:%M:%S'),\n",
    "            bet_amount=15.00,\n",
    "            multiplier=(m := generate_decimal()),\n",
    "            decided_multiplier=(d := DecidedMultiplier(multiplier_for_box_one=1.0, multiplier_for_box_two=1.0)),\n",
    "            result_one=RoundResult.DRAW,\n",
    "            result_two=RoundResult.DRAW,\n",
    "            current_balance=5000,\n",
    "            initial_balance=5000,\n",
    "            multiplier_category='B' if 1.00 <= m <= 1.99 else 'P' if 2.00 <= m <= 9.99 else 'Pk',\n",
    "            decided_multiplier_one_category='B' if 1.00 <= d.multiplier_for_box_one <= 1.99 else 'P' if 2.00 <= d.multiplier_for_box_one <= 9.99 else 'Pk',\n",
    "            decided_multiplier_two_category='B' if 1.00 <= d.multiplier_for_box_two <= 1.99 else 'P' if 2.00 <= d.multiplier_for_box_two <= 9.99 else 'Pk',\n",
    "        )\n",
    "    )\n",
    "\n",
    "with open(live_bet_history_storage, 'w') as file:\n",
    "    json.dump(\n",
    "        [history.model_dump() | {\"result_one\": str(history.result_one.value), \"result_two\": str(history.result_two.value)} for history in bet_history],\n",
    "        file,\n",
    "        indent=4\n",
    "    )"
   ]
  },
  {
   "cell_type": "code",
   "execution_count": null,
   "metadata": {},
   "outputs": [],
   "source": []
  },
  {
   "cell_type": "code",
   "execution_count": null,
   "metadata": {},
   "outputs": [],
   "source": []
  }
 ],
 "metadata": {
  "kernelspec": {
   "display_name": ".venv",
   "language": "python",
   "name": "python3"
  },
  "language_info": {
   "codemirror_mode": {
    "name": "ipython",
    "version": 3
   },
   "file_extension": ".py",
   "mimetype": "text/x-python",
   "name": "python",
   "nbconvert_exporter": "python",
   "pygments_lexer": "ipython3",
   "version": "3.11.11"
  }
 },
 "nbformat": 4,
 "nbformat_minor": 2
}
